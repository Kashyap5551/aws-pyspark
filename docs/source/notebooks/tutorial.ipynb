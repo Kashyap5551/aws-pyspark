{
 "cells": [
  {
   "attachments": {},
   "cell_type": "markdown",
   "metadata": {},
   "source": [
    "# Tutorial \n",
    "This is how to use our program.\n",
    "\n"
   ]
  }
 ],
 "metadata": {
  "kernelspec": {
   "display_name": "Python 3.9.9 64-bit",
   "language": "python",
   "name": "python3"
  },
  "language_info": {
   "name": "python",
   "version": "3.9.9"
  },
  "orig_nbformat": 4,
  "vscode": {
   "interpreter": {
    "hash": "d08fbc012083a24671023d0913f1c5c535002f2b508aa4bad95bb012ff36f33f"
   }
  }
 },
 "nbformat": 4,
 "nbformat_minor": 2
}
